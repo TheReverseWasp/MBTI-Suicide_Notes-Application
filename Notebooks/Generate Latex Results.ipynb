{
 "cells": [
  {
   "cell_type": "code",
   "execution_count": 1,
   "id": "0f7203b7",
   "metadata": {},
   "outputs": [],
   "source": [
    "tm = [\n",
    "    \"XLNet Base\",\n",
    "    \n",
    "    \"BERT Base\",\n",
    "    \"BERT Multilingual\",\n",
    "    \n",
    "    \"Distil BERT Base\",\n",
    "    \"Distil BERT Multilingual\",\n",
    "    \n",
    "    \"Distil RoBERTa\",\n",
    "    \"RoBERTa Base\",\n",
    "    \n",
    "    \"XLM RoBERTa\",\n",
    "    \n",
    "    \"ELECTRA Base\",\n",
    "    \"ELECTRA Small\"\n",
    "]\n",
    "sub_path_name = [\n",
    "    [\"xlnet\", \"xlnet-base-cased\"],\n",
    "\n",
    "    [\"bert\", \"bert-base-cased\"],\n",
    "    [\"bert\", \"bert-base-multilingual-cased\"],\n",
    "\n",
    "    [\"distilbert\", \"distilbert-base-uncased\"],\n",
    "    [\"distilbert\", \"distilbert-base-multilingual-cased\"],\n",
    "\n",
    "    [\"roberta\", \"distilroberta-base\"],\n",
    "    [\"roberta\", \"roberta-base\"],\n",
    "\n",
    "    [\"xlmroberta\", \"xlm-roberta-base\"],\n",
    "\n",
    "    [\"electra\", \"google/electra-base-discriminator\"],\n",
    "    [\"electra\", \"google/electra-small-discriminator\"]\n",
    "]"
   ]
  },
  {
   "cell_type": "code",
   "execution_count": null,
   "id": "2b72f131",
   "metadata": {},
   "outputs": [],
   "source": []
  },
  {
   "cell_type": "code",
   "execution_count": 2,
   "id": "cb0acfe5",
   "metadata": {},
   "outputs": [
    {
     "name": "stdout",
     "output_type": "stream",
     "text": [
      "[['BERT Base', '../outputs/bert-bert-base-cased-outputs/'], ['BERT Multilingual', '../outputs/bert-bert-base-multilingual-cased-outputs/'], ['Distil BERT Multilingual', '../outputs/distilbert-distilbert-base-multilingual-cased-outputs/'], ['Distil BERT Base', '../outputs/distilbert-distilbert-base-uncased-outputs/'], ['ELECTRA Base', '../outputs/electra-google/electra-base-discriminator-outputs/'], ['ELECTRA Small', '../outputs/electra-google/electra-small-discriminator-outputs/'], ['Distil RoBERTa', '../outputs/roberta-distilroberta-base-outputs/'], ['RoBERTa Base', '../outputs/roberta-roberta-base-outputs/'], ['XLM RoBERTa', '../outputs/xlmroberta-xlm-roberta-base-outputs/'], ['XLNet Base', '../outputs/xlnet-xlnet-base-cased-outputs/']]\n"
     ]
    }
   ],
   "source": [
    "import json\n",
    "\n",
    "paths = []\n",
    "for i in range(len(tm)):\n",
    "    path = f\"../outputs/{sub_path_name[i][0]}-{sub_path_name[i][1]}-outputs/\"\n",
    "    paths.append([tm[i], path])\n",
    "\n",
    "paths.sort(key = lambda x: x[1])\n",
    "print(paths)"
   ]
  },
  {
   "cell_type": "code",
   "execution_count": 3,
   "id": "95e65f43",
   "metadata": {},
   "outputs": [],
   "source": [
    "accuracy = \"Accuracy:\\n\\\\hline\\n\"\n",
    "f1_score = \"F1-score:\\n\\\\hline\\n\"\n",
    "\n",
    "for elem in paths:\n",
    "    accuracy += elem[0] + \" & \"\n",
    "    f1_score += elem[0] + \" & \"\n",
    "    with open(f\"{elem[1]}results_acc.txt\", \"r\") as f:\n",
    "        for i in range(4):\n",
    "            acc = round(float(f.readline().split(\" \")[2]) * 100, 4)\n",
    "            f1 = round(float(f.readline().split(\" \")[3]) * 100, 4)\n",
    "            accuracy += f\"{acc} & \"\n",
    "            f1_score += f\"{f1} & \"\n",
    "        f.readline()\n",
    "        f.readline()\n",
    "        acc = round(float(f.readline().split(\" \")[1]) * 100, 4)\n",
    "        f1 = round(float(f.readline().split(\" \")[2]) * 100, 4)\n",
    "        accuracy += f\"{acc} \\\\\\\\\\n\\\\hline\\n\"\n",
    "        f1_score += f\"{f1} \\\\\\\\\\n\\\\hline\\n\"\n",
    "\n"
   ]
  },
  {
   "cell_type": "code",
   "execution_count": 4,
   "id": "a5d3768a",
   "metadata": {},
   "outputs": [
    {
     "name": "stdout",
     "output_type": "stream",
     "text": [
      "Accuracy:\n",
      "\\hline\n",
      "BERT Base & 85.3714 & 90.5143 & 84.6857 & 79.5429 & 85.0286 \\\\\n",
      "\\hline\n",
      "BERT Multilingual & 85.3714 & 91.5429 & 84.1143 & 79.8857 & 85.2286 \\\\\n",
      "\\hline\n",
      "Distil BERT Multilingual & 84.0 & 91.7714 & 86.4 & 81.0286 & 85.8 \\\\\n",
      "\\hline\n",
      "Distil BERT Base & 86.8571 & 91.0857 & 86.7429 & 82.0571 & 86.6857 \\\\\n",
      "\\hline\n",
      "ELECTRA Base & 85.7143 & 90.6286 & 86.1714 & 81.7143 & 86.0571 \\\\\n",
      "\\hline\n",
      "ELECTRA Small & 85.3714 & 91.8857 & 87.2 & 81.4857 & 86.4857 \\\\\n",
      "\\hline\n",
      "Distil RoBERTa & 86.8571 & 92.8 & 88.6857 & 82.6286 & 87.7429 \\\\\n",
      "\\hline\n",
      "RoBERTa Base & 76.8 & 85.9429 & 54.0571 & 60.3429 & 69.2857 \\\\\n",
      "\\hline\n",
      "XLM RoBERTa & 76.8 & 85.9429 & 54.0571 & 60.3429 & 69.2857 \\\\\n",
      "\\hline\n",
      "XLNet Base & 76.8 & 85.9429 & 54.0571 & 60.3429 & 69.2857 \\\\\n",
      "\\hline\n",
      "\n"
     ]
    }
   ],
   "source": [
    "print(accuracy)"
   ]
  },
  {
   "cell_type": "code",
   "execution_count": 5,
   "id": "f53737af",
   "metadata": {},
   "outputs": [
    {
     "name": "stdout",
     "output_type": "stream",
     "text": [
      "F1-score:\n",
      "\\hline\n",
      "BERT Base & 90.5605 & 94.4556 & 83.0808 & 74.392 & 85.6222 \\\\\n",
      "\\hline\n",
      "BERT Multilingual & 90.5744 & 95.1123 & 82.0181 & 73.8872 & 85.398 \\\\\n",
      "\\hline\n",
      "Distil BERT Multilingual & 89.521 & 95.2381 & 85.1806 & 75.5162 & 86.364 \\\\\n",
      "\\hline\n",
      "Distil BERT Base & 91.5751 & 94.7931 & 85.1662 & 77.7305 & 87.3162 \\\\\n",
      "\\hline\n",
      "ELECTRA Base & 90.7201 & 94.5333 & 84.5466 & 76.3314 & 86.5329 \\\\\n",
      "\\hline\n",
      "ELECTRA Small & 90.6433 & 95.2698 & 85.567 & 76.4535 & 86.9834 \\\\\n",
      "\\hline\n",
      "Distil RoBERTa & 91.5004 & 95.8195 & 87.3885 & 77.5148 & 88.0558 \\\\\n",
      "\\hline\n",
      "RoBERTa Base & 86.8778 & 92.4401 & 0.0 & 0.0 & 44.8295 \\\\\n",
      "\\hline\n",
      "XLM RoBERTa & 86.8778 & 92.4401 & 0.0 & 0.0 & 44.8295 \\\\\n",
      "\\hline\n",
      "XLNet Base & 86.8778 & 92.4401 & 0.0 & 0.0 & 44.8295 \\\\\n",
      "\\hline\n",
      "\n"
     ]
    }
   ],
   "source": [
    "print(f1_score)"
   ]
  },
  {
   "cell_type": "code",
   "execution_count": 6,
   "id": "e5d19903",
   "metadata": {},
   "outputs": [],
   "source": [
    "auc_str = \"\"\"Distil RoBERTa with AUC:['0.873952', '0.889552', '0.926522', '0.873644'] Avg:  0.890917\n",
    "Distil BERT Base with AUC:['0.874941', '0.883914', '0.915852', '0.884811'] Avg:  0.889879\n",
    "Distil BERT Multilingual with AUC:['0.875367', '0.892585', '0.919720', '0.865571'] Avg:  0.888310\n",
    "ELECTRA Base with AUC:['0.868586', '0.865589', '0.900755', '0.859750'] Avg:  0.873670\n",
    "BERT Multilingual with AUC:['0.843981', '0.902266', '0.897153', '0.842339'] Avg:  0.871435\n",
    "BERT Base with AUC:['0.838084', '0.885676', '0.895956', '0.841212'] Avg:  0.865232\n",
    "ELECTRA Small with AUC:['0.839733', '0.871540', '0.886456', '0.856525'] Avg:  0.863563\n",
    "XLM RoBERTa with AUC:['0.483195', '0.500000', '0.708608', '0.486235'] Avg:  0.544509\n",
    "XLNet Base with AUC:['0.511685', '0.500000', '0.500000', '0.504462'] Avg:  0.504037\n",
    "RoBERTa Base with AUC:['0.500000', '0.510000', '0.500000', '0.489662'] Avg:  0.499916\"\"\"\n"
   ]
  },
  {
   "cell_type": "code",
   "execution_count": 7,
   "id": "c9536a7b",
   "metadata": {},
   "outputs": [
    {
     "name": "stdout",
     "output_type": "stream",
     "text": [
      "[\"Distil RoBERTa with AUC:['0.873952', '0.889552', '0.926522', '0.873644'] Avg:  0.890917\", \"Distil BERT Base with AUC:['0.874941', '0.883914', '0.915852', '0.884811'] Avg:  0.889879\", \"Distil BERT Multilingual with AUC:['0.875367', '0.892585', '0.919720', '0.865571'] Avg:  0.888310\", \"ELECTRA Base with AUC:['0.868586', '0.865589', '0.900755', '0.859750'] Avg:  0.873670\", \"BERT Multilingual with AUC:['0.843981', '0.902266', '0.897153', '0.842339'] Avg:  0.871435\", \"BERT Base with AUC:['0.838084', '0.885676', '0.895956', '0.841212'] Avg:  0.865232\", \"ELECTRA Small with AUC:['0.839733', '0.871540', '0.886456', '0.856525'] Avg:  0.863563\", \"XLM RoBERTa with AUC:['0.483195', '0.500000', '0.708608', '0.486235'] Avg:  0.544509\", \"XLNet Base with AUC:['0.511685', '0.500000', '0.500000', '0.504462'] Avg:  0.504037\", \"RoBERTa Base with AUC:['0.500000', '0.510000', '0.500000', '0.489662'] Avg:  0.499916\"]\n"
     ]
    }
   ],
   "source": [
    "l_auc_str = auc_str.split(\"\\n\")\n",
    "print(l_auc_str)"
   ]
  },
  {
   "cell_type": "code",
   "execution_count": 8,
   "id": "55499af8",
   "metadata": {},
   "outputs": [
    {
     "name": "stdout",
     "output_type": "stream",
     "text": [
      "{'Distil RoBERTa': ['Distil RoBERTa with AUC:[', '0.873952', ', ', '0.889552', ', ', '0.926522', ', ', '0.873644', '] Avg:  0.890917'], 'Distil BERT Base': ['Distil BERT Base with AUC:[', '0.874941', ', ', '0.883914', ', ', '0.915852', ', ', '0.884811', '] Avg:  0.889879'], 'Distil BERT Multilingual': ['Distil BERT Multilingual with AUC:[', '0.875367', ', ', '0.892585', ', ', '0.919720', ', ', '0.865571', '] Avg:  0.888310'], 'ELECTRA Base': ['ELECTRA Base with AUC:[', '0.868586', ', ', '0.865589', ', ', '0.900755', ', ', '0.859750', '] Avg:  0.873670'], 'BERT Multilingual': ['BERT Multilingual with AUC:[', '0.843981', ', ', '0.902266', ', ', '0.897153', ', ', '0.842339', '] Avg:  0.871435'], 'BERT Base': ['BERT Base with AUC:[', '0.838084', ', ', '0.885676', ', ', '0.895956', ', ', '0.841212', '] Avg:  0.865232'], 'ELECTRA Small': ['ELECTRA Small with AUC:[', '0.839733', ', ', '0.871540', ', ', '0.886456', ', ', '0.856525', '] Avg:  0.863563'], 'XLM RoBERTa': ['XLM RoBERTa with AUC:[', '0.483195', ', ', '0.500000', ', ', '0.708608', ', ', '0.486235', '] Avg:  0.544509'], 'XLNet Base': ['XLNet Base with AUC:[', '0.511685', ', ', '0.500000', ', ', '0.500000', ', ', '0.504462', '] Avg:  0.504037'], 'RoBERTa Base': ['RoBERTa Base with AUC:[', '0.500000', ', ', '0.510000', ', ', '0.500000', ', ', '0.489662', '] Avg:  0.499916']}\n"
     ]
    }
   ],
   "source": [
    "\n",
    "dic_auc = {line.split(\" with\")[0]: list(line.split(\"'\")) for line in l_auc_str}\n",
    "print(dic_auc)"
   ]
  },
  {
   "cell_type": "code",
   "execution_count": 9,
   "id": "89365af8",
   "metadata": {},
   "outputs": [],
   "source": [
    "def is_float(num_str):\n",
    "    try:\n",
    "        float(num_str)\n",
    "    except:\n",
    "        return False\n",
    "    return True"
   ]
  },
  {
   "cell_type": "code",
   "execution_count": 10,
   "id": "7dde0b07",
   "metadata": {},
   "outputs": [],
   "source": [
    "auc_final_list = []\n",
    "\n",
    "for key, value in dic_auc.items():\n",
    "    ans = [key]\n",
    "    for elem in value:\n",
    "        if elem.startswith(\"] Avg\"):\n",
    "            ans.append(float(elem.split(\" \")[3]))\n",
    "        elif is_float(elem):\n",
    "            ans.append(float(elem))\n",
    "    auc_final_list.append(ans)"
   ]
  },
  {
   "cell_type": "code",
   "execution_count": 11,
   "id": "bae7d1ca",
   "metadata": {},
   "outputs": [
    {
     "name": "stdout",
     "output_type": "stream",
     "text": [
      "AUC:\n",
      "\\hline\n",
      "BERT Base & 83.8084 & 88.5676 & 89.5956 & 84.1212 & 86.5232 \\\\\n",
      "\\hline\n",
      "BERT Multilingual & 84.3981 & 90.2266 & 89.7153 & 84.2339 & 87.1435 \\\\\n",
      "\\hline\n",
      "Distil BERT Base & 87.4941 & 88.3914 & 91.5852 & 88.4811 & 88.9879 \\\\\n",
      "\\hline\n",
      "Distil BERT Multilingual & 87.5367 & 89.2585 & 91.972 & 86.5571 & 88.831 \\\\\n",
      "\\hline\n",
      "Distil RoBERTa & 87.3952 & 88.9552 & 92.6522 & 87.3644 & 89.0917 \\\\\n",
      "\\hline\n",
      "ELECTRA Base & 86.8586 & 86.5589 & 90.0755 & 85.975 & 87.367 \\\\\n",
      "\\hline\n",
      "ELECTRA Small & 83.9733 & 87.154 & 88.6456 & 85.6525 & 86.3563 \\\\\n",
      "\\hline\n",
      "RoBERTa Base & 50.0 & 51.0 & 50.0 & 48.9662 & 49.9916 \\\\\n",
      "\\hline\n",
      "XLM RoBERTa & 48.3195 & 50.0 & 70.8608 & 48.6235 & 54.4509 \\\\\n",
      "\\hline\n",
      "XLNet Base & 51.1685 & 50.0 & 50.0 & 50.4462 & 50.4037 \\\\\n",
      "\\hline\n",
      "\n"
     ]
    }
   ],
   "source": [
    "auc_str = \"AUC:\\n\\\\hline\\n\"\n",
    "\n",
    "auc_str_latex_list = []\n",
    "for line in auc_final_list:\n",
    "    temp_auc_str = \"\"\n",
    "    for elem in line:\n",
    "        try:\n",
    "            temp = round(elem * 100, 4)\n",
    "            temp_auc_str += f\"{temp} & \"\n",
    "        except:\n",
    "            temp_auc_str += f\"{elem} & \"\n",
    "    temp_auc_str = temp_auc_str[:-3] + \" \\\\\\\\\\n\\hline\\n\"\n",
    "    auc_str_latex_list.append(temp_auc_str)\n",
    "print(auc_str + \"\".join(sorted(auc_str_latex_list)))"
   ]
  },
  {
   "cell_type": "code",
   "execution_count": null,
   "id": "4f2024d7",
   "metadata": {},
   "outputs": [],
   "source": []
  },
  {
   "cell_type": "code",
   "execution_count": null,
   "id": "8f356a85",
   "metadata": {},
   "outputs": [],
   "source": []
  }
 ],
 "metadata": {
  "kernelspec": {
   "display_name": "Python 3 (ipykernel)",
   "language": "python",
   "name": "python3"
  },
  "language_info": {
   "codemirror_mode": {
    "name": "ipython",
    "version": 3
   },
   "file_extension": ".py",
   "mimetype": "text/x-python",
   "name": "python",
   "nbconvert_exporter": "python",
   "pygments_lexer": "ipython3",
   "version": "3.8.13"
  }
 },
 "nbformat": 4,
 "nbformat_minor": 5
}
