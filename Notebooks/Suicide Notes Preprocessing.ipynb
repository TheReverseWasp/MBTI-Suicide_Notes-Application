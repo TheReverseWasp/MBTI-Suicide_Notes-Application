{
 "cells": [
  {
   "cell_type": "markdown",
   "id": "bfcb54ea",
   "metadata": {},
   "source": [
    "# SND Preprocessing"
   ]
  },
  {
   "cell_type": "code",
   "execution_count": 1,
   "id": "e8637e3e",
   "metadata": {},
   "outputs": [],
   "source": [
    "import pandas as pd\n",
    "\n",
    "import seaborn as sns\n",
    "import matplotlib.pyplot as plt\n",
    "\n",
    "import re\n",
    "\n",
    "import copy as cp"
   ]
  },
  {
   "cell_type": "code",
   "execution_count": 2,
   "id": "07d6a9a4",
   "metadata": {},
   "outputs": [],
   "source": [
    "DATASETS_PATH = \"../datasets/\"\n",
    "\n",
    "df = pd.read_csv(f\"{DATASETS_PATH}SuicideNotes.csv\")\n",
    "df.tail()\n",
    "\n",
    "df_da = cp.deepcopy(df)"
   ]
  },
  {
   "cell_type": "code",
   "execution_count": 3,
   "id": "86f3a29a",
   "metadata": {},
   "outputs": [],
   "source": [
    "df=df.fillna('')"
   ]
  },
  {
   "cell_type": "markdown",
   "id": "1b789906",
   "metadata": {},
   "source": [
    "## Preprocessing"
   ]
  },
  {
   "cell_type": "code",
   "execution_count": 4,
   "id": "d7f1fdd7",
   "metadata": {},
   "outputs": [],
   "source": [
    "from nltk.corpus import stopwords \n",
    "from nltk.tokenize import word_tokenize\n",
    "\n",
    "from nltk.stem import WordNetLemmatizer\n",
    "\n",
    "import nltk"
   ]
  },
  {
   "cell_type": "code",
   "execution_count": 5,
   "id": "e697e548",
   "metadata": {},
   "outputs": [],
   "source": [
    "# nltk.download('stopwords')\n",
    "# nltk.download('punkt')\n",
    "# nltk.download('wordnet')"
   ]
  },
  {
   "cell_type": "code",
   "execution_count": 6,
   "id": "12afbe5b",
   "metadata": {},
   "outputs": [
    {
     "data": {
      "text/html": [
       "<div>\n",
       "<style scoped>\n",
       "    .dataframe tbody tr th:only-of-type {\n",
       "        vertical-align: middle;\n",
       "    }\n",
       "\n",
       "    .dataframe tbody tr th {\n",
       "        vertical-align: top;\n",
       "    }\n",
       "\n",
       "    .dataframe thead th {\n",
       "        text-align: right;\n",
       "    }\n",
       "</style>\n",
       "<table border=\"1\" class=\"dataframe\">\n",
       "  <thead>\n",
       "    <tr style=\"text-align: right;\">\n",
       "      <th></th>\n",
       "      <th>id</th>\n",
       "      <th>text</th>\n",
       "    </tr>\n",
       "  </thead>\n",
       "  <tbody>\n",
       "    <tr>\n",
       "      <th>0</th>\n",
       "      <td>1</td>\n",
       "      <td>put writing somehow stick feel good honestly</td>\n",
       "    </tr>\n",
       "    <tr>\n",
       "      <th>1</th>\n",
       "      <td>2</td>\n",
       "      <td>made peace fact going kill one day head train ...</td>\n",
       "    </tr>\n",
       "    <tr>\n",
       "      <th>2</th>\n",
       "      <td>3</td>\n",
       "      <td>really want help cant anymore alone feel hopeless</td>\n",
       "    </tr>\n",
       "    <tr>\n",
       "      <th>3</th>\n",
       "      <td>4</td>\n",
       "      <td>think reason stay sense stability area life fu...</td>\n",
       "    </tr>\n",
       "    <tr>\n",
       "      <th>4</th>\n",
       "      <td>5</td>\n",
       "      <td></td>\n",
       "    </tr>\n",
       "  </tbody>\n",
       "</table>\n",
       "</div>"
      ],
      "text/plain": [
       "   id                                               text\n",
       "0   1       put writing somehow stick feel good honestly\n",
       "1   2  made peace fact going kill one day head train ...\n",
       "2   3  really want help cant anymore alone feel hopeless\n",
       "3   4  think reason stay sense stability area life fu...\n",
       "4   5                                                   "
      ]
     },
     "execution_count": 6,
     "metadata": {},
     "output_type": "execute_result"
    }
   ],
   "source": [
    "# Function to clean text. Remove tagged entities, hyperlinks, emojis\n",
    "def clean_text(text):\n",
    "    text = re.sub(r\"'\", ' ', text)\n",
    "    text = re.sub(r\"\\|\\|\\|\", ' ', text)\n",
    "    text = re.sub(r\"\\[ font \\]\", ' ', text)\n",
    "    text = re.sub(r\"#[A-Za-z0-9]\", ' ', text)\n",
    "    text = re.sub(r\"@[A-Za-z0-9]+\", ' ', text)\n",
    "    text = re.sub(r\"https?://\\S+\", ' ', text)\n",
    "    text = re.sub(r\"[^a-zA-z.!?'0-9]\", ' ', text)\n",
    "    text = re.sub('\\t', ' ',  text)\n",
    "    text = re.sub('_', ' ', text)\n",
    "    text = re.sub(r\"\\.|\\,|\\;|\\:|\\[\\]|\\^|\\!|\\?|\\(|\\)\", ' ', text)\n",
    "    text = re.sub(r\"[0-9]+\", \" \", text)\n",
    "    \n",
    "    text = re.sub(r\" +\", ' ', text)\n",
    "    \n",
    "    text = text.lower()\n",
    "    \n",
    "    #stop Words and lemmatization\n",
    "    stop_words = set(stopwords.words('english')) \n",
    "    \n",
    "    lemmatizer = WordNetLemmatizer()\n",
    "    \n",
    "    word_tokens = word_tokenize(text) \n",
    "  \n",
    "    filtered_sentence = [w for w in word_tokens if not w in stop_words] \n",
    "\n",
    "    filtered_sentence = [] \n",
    "\n",
    "    for w in word_tokens: \n",
    "        if w not in stop_words: \n",
    "            filtered_sentence.append(lemmatizer.lemmatize(w)) \n",
    "            \n",
    "    text = ' '.join(filtered_sentence)\n",
    "    \n",
    "    return text\n",
    " \n",
    "df['text'] = df['text'].apply(clean_text)\n",
    "\n",
    "df.head()"
   ]
  },
  {
   "cell_type": "markdown",
   "id": "02643714",
   "metadata": {},
   "source": [
    "## Export "
   ]
  },
  {
   "cell_type": "code",
   "execution_count": 7,
   "id": "fd281a0f",
   "metadata": {},
   "outputs": [],
   "source": [
    "df.to_csv(f\"{DATASETS_PATH}SuicideNotes_Corregido.csv\", index=False)"
   ]
  },
  {
   "cell_type": "code",
   "execution_count": 8,
   "id": "b4f91551",
   "metadata": {},
   "outputs": [
    {
     "name": "stdout",
     "output_type": "stream",
     "text": [
      "max_size: 791\n"
     ]
    }
   ],
   "source": [
    "max_size = 0\n",
    "for idx in df.index:\n",
    "    max_size = max(max_size, len(df[\"text\"][idx].split()))\n",
    "print(f\"max_size: {max_size}\")"
   ]
  },
  {
   "cell_type": "code",
   "execution_count": 9,
   "id": "9aa60485",
   "metadata": {},
   "outputs": [
    {
     "name": "stdout",
     "output_type": "stream",
     "text": [
      "437\n"
     ]
    }
   ],
   "source": [
    "elems = []\n",
    "da =[]\n",
    "\n",
    "for idx in df.index:\n",
    "    if len(df[\"text\"][idx]) > 32:\n",
    "        da.append(df_da[\"text\"][idx])\n",
    "        elems.append(df[\"text\"][idx])\n",
    "        \n",
    "print(len(elems))"
   ]
  },
  {
   "cell_type": "code",
   "execution_count": 10,
   "id": "1f07f801",
   "metadata": {},
   "outputs": [],
   "source": [
    "suicide_notes_df = pd.DataFrame()\n",
    "suicide_notes_df[\"text\"] = elems\n",
    "suicide_notes_df.to_csv(f\"{DATASETS_PATH}Final_Suicide_Notes.csv\", index=False)"
   ]
  },
  {
   "cell_type": "code",
   "execution_count": 11,
   "id": "c84790fb",
   "metadata": {},
   "outputs": [],
   "source": [
    "suicide_notes_df[\"complete_text\"] = da\n",
    "\n",
    "# Data Analysis csv\n",
    "suicide_notes_df.to_csv(f\"{DATASETS_PATH}DA_suicide_notes.csv\", index=False)"
   ]
  },
  {
   "cell_type": "code",
   "execution_count": null,
   "id": "50e8261e",
   "metadata": {},
   "outputs": [],
   "source": []
  },
  {
   "cell_type": "code",
   "execution_count": null,
   "id": "df2899a4",
   "metadata": {},
   "outputs": [],
   "source": []
  }
 ],
 "metadata": {
  "kernelspec": {
   "display_name": "Python 3 (ipykernel)",
   "language": "python",
   "name": "python3"
  },
  "language_info": {
   "codemirror_mode": {
    "name": "ipython",
    "version": 3
   },
   "file_extension": ".py",
   "mimetype": "text/x-python",
   "name": "python",
   "nbconvert_exporter": "python",
   "pygments_lexer": "ipython3",
   "version": "3.8.13"
  }
 },
 "nbformat": 4,
 "nbformat_minor": 5
}
